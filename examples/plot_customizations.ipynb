{
 "cells": [
  {
   "cell_type": "markdown",
   "metadata": {},
   "source": [
    "---\n",
    "\n",
    "#  mplfinance plot customizations\n",
    "\n",
    "---"
   ]
  },
  {
   "cell_type": "markdown",
   "metadata": {},
   "source": [
    "### In this notebook, we demonstrate the use of various keyword arguments to customize:\n",
    "- figure size and aspect ratio\n",
    "- display of non-trading periods (weekends, holidays, after hours trading)\n",
    "- figure title\n",
    "- y-axis label\n",
    "- x-axis datetime format\n",
    "- x-axis labels rotation\n",
    "- line color for line plot\n",
    "- tight_layout\n",
    "- fill_between"
   ]
  },
  {
   "cell_type": "code",
   "execution_count": null,
   "metadata": {},
   "outputs": [],
   "source": [
    "# This allows multiple outputs from a single jupyter notebook cell:\n",
    "from IPython.core.interactiveshell import InteractiveShell\n",
    "InteractiveShell.ast_node_interactivity = \"all\""
   ]
  },
  {
   "cell_type": "code",
   "execution_count": null,
   "metadata": {},
   "outputs": [],
   "source": [
    "%matplotlib inline\n",
    "import pandas as pd"
   ]
  },
  {
   "cell_type": "markdown",
   "metadata": {},
   "source": [
    "### Read in daily data for the S&P 500 from November of 2019 "
   ]
  },
  {
   "cell_type": "code",
   "execution_count": null,
   "metadata": {},
   "outputs": [],
   "source": [
    "daily = pd.read_csv('data/SP500_NOV2019_Hist.csv',index_col=0,parse_dates=True)\n",
    "daily.index.name = 'Date'\n",
    "daily.shape\n",
    "daily.head(2)\n",
    "daily.tail(2)"
   ]
  },
  {
   "cell_type": "code",
   "execution_count": null,
   "metadata": {},
   "outputs": [],
   "source": [
    "import mplfinance as mpf\n",
    "mpf.__version__"
   ]
  },
  {
   "cell_type": "markdown",
   "metadata": {},
   "source": [
    "---\n",
    "\n",
    "- `figscale` is used to scale the size fo the figure up or down.\n",
    "\n",
    "- `figscale=1.0` means that the _height_ of the plot will be the default height (see below);<br>&nbsp;&nbsp;&nbsp;&nbsp; the width of the plot will depend upon the aspect ratio.\n",
    "\n",
    "- `figratio` modifies the aspect ratio of the plot.\n",
    "  - specify a tuple (width,height) for `figratio`.\n",
    "  \n",
    "- `figscale` and `figratio` may be used independently (they do _not_ need to be specified together)\n",
    "\n",
    "- If not specified, the default values (as of June 2020) are:\n",
    "  - `figscale = 1.0`\n",
    "  - `figratio = (8.00,5.75)`\n",
    "\n",
    "(one may also specify simply `figsize` which _overrides both_ `figscale` and `figratio`<br> specifying explicitly, at the same time, both the size and aspect ratio of the figure.)"
   ]
  },
  {
   "cell_type": "code",
   "execution_count": null,
   "metadata": {},
   "outputs": [],
   "source": [
    "mpf.plot(daily)\n",
    "mpf.plot(daily,figratio=(18,10))\n",
    "mpf.plot(daily,figratio=(18,10),figscale=0.5)"
   ]
  },
  {
   "cell_type": "code",
   "execution_count": null,
   "metadata": {},
   "outputs": [],
   "source": []
  },
  {
   "cell_type": "markdown",
   "metadata": {},
   "source": [
    "#### Displaying non-trading periods\n",
    "\n",
    "---\n",
    "\n",
    "- Some users like to see gaps in the plot created by non-trading periods (days or, for intraday data, hours)\n",
    "- Non-trading periods can be displayed using the **` show_nontrading `** kwarg.\n",
    "- In the example below, these gaps make it easy to visualize weekend and the U.S. Thanksgiving Holiday.\n"
   ]
  },
  {
   "cell_type": "code",
   "execution_count": null,
   "metadata": {},
   "outputs": [],
   "source": [
    "daily[daily['Open'] > daily['Close']]"
   ]
  },
  {
   "cell_type": "code",
   "execution_count": null,
   "metadata": {},
   "outputs": [],
   "source": [
    "mpf.plot(daily,type='candle',volume=True,figscale=0.9)\n",
    "mpf.plot(daily,type='hollow_candle',style='hollow',volume=True,figscale=0.9)\n",
    "mpf.plot(daily,type='candle',volume=True,figscale=0.9,show_nontrading=True)"
   ]
  },
  {
   "cell_type": "markdown",
   "metadata": {},
   "source": [
    "---\n",
    "\n",
    "---\n",
    "\n",
    "#### Setting the Figure Title and the Y-axis Label:"
   ]
  },
  {
   "cell_type": "code",
   "execution_count": null,
   "metadata": {},
   "outputs": [],
   "source": [
    "mpf.plot(daily,type='candle',volume=True,\n",
    "         title='\\nS&P 500, Nov 2019',\n",
    "         ylabel='OHLC Candles',\n",
    "         ylabel_lower='Shares\\nTraded')"
   ]
  },
  {
   "cell_type": "code",
   "execution_count": null,
   "metadata": {},
   "outputs": [],
   "source": []
  },
  {
   "cell_type": "markdown",
   "metadata": {},
   "source": [
    "---\n",
    "\n",
    "#### Setting the x-axis datetime format and x-axis labels rotation:"
   ]
  },
  {
   "cell_type": "code",
   "execution_count": null,
   "metadata": {},
   "outputs": [],
   "source": [
    "mpf.plot(daily,figscale=0.65)\n",
    "mpf.plot(daily,figscale=0.65,xrotation=20)\n",
    "mpf.plot(daily,figscale=0.65,datetime_format=' %A, %d-%m-%Y')\n",
    "mpf.plot(daily,figscale=0.65,datetime_format=' %A, %d-%m-%Y',xrotation=90)"
   ]
  },
  {
   "cell_type": "code",
   "execution_count": null,
   "metadata": {},
   "outputs": [],
   "source": []
  },
  {
   "cell_type": "markdown",
   "metadata": {},
   "source": [
    "---\n",
    "\n",
    "#### Setting linecolor for a line plot:"
   ]
  },
  {
   "cell_type": "code",
   "execution_count": null,
   "metadata": {},
   "outputs": [],
   "source": [
    "mpf.plot(daily, type='line', linecolor='#00ff00')"
   ]
  },
  {
   "cell_type": "code",
   "execution_count": null,
   "metadata": {},
   "outputs": [],
   "source": []
  },
  {
   "cell_type": "markdown",
   "metadata": {},
   "source": [
    "---\n",
    "\n",
    "#### tight layout:"
   ]
  },
  {
   "cell_type": "code",
   "execution_count": null,
   "metadata": {},
   "outputs": [],
   "source": [
    "mpf.plot(daily,volume=True,figscale=0.75,mav=(3,6))\n",
    "mpf.plot(daily,volume=True,figscale=0.75,mav=(3,6),tight_layout=True)"
   ]
  },
  {
   "cell_type": "code",
   "execution_count": null,
   "metadata": {},
   "outputs": [],
   "source": []
  },
  {
   "cell_type": "markdown",
   "metadata": {},
   "source": [
    "---\n",
    "\n",
    "### fill_between\n",
    "\n",
    "#### Usage:\n",
    "- `fill_between=y1` \n",
    "  - `y1` is a single y value, or a series of y values the same length as your data frame.\n",
    "- `fill_between=dict(y1=value(s),y2=0,where=None,**kwargs)`\n",
    "  - `y2` defaults to 0, and is a single value, or series of values the same length as your data frame.\n",
    "  - `where` is a boolean series the same length as your data frame.\n",
    "  - `kwargs` are any additional kwargs accepted by matplotlib `Axes.fill_between()`.\n",
    "  \n",
    "\n",
    "#### Note that \n",
    "`mpf.plot()` kwarg `fill_between=` is similar to matplotlib method [`Axes.fill_between()`](https://matplotlib.org/api/_as_gen/matplotlib.axes.Axes.fill_between.html)<br> **except** you **do** ***NOT*** specify the x-axis (**rather the x-axis is assumed to be the datetime index of your dataframe**)\n",
    "\n",
    "#### Examples:"
   ]
  },
  {
   "cell_type": "code",
   "execution_count": null,
   "metadata": {},
   "outputs": [],
   "source": [
    "print('''\n",
    "\n",
    "A single y-value or series **assumes** we fill between ZERO and that single y-value or series.\n",
    "\n",
    "Therefore, scale down the data, close to zero, so that we can demonstrate specifying\n",
    "a single y-value, or single y-series for fill_between:\n",
    "\n",
    "''')\n",
    "scaled_down_data = (daily/3000)-1.0\n",
    "\n",
    "mpf.plot(scaled_down_data,figscale=0.7)\n",
    "mpf.plot(scaled_down_data,figscale=0.7,fill_between=0.03)\n",
    "mpf.plot(scaled_down_data,figscale=0.7,fill_between=scaled_down_data['Close'].values)"
   ]
  },
  {
   "cell_type": "code",
   "execution_count": null,
   "metadata": {},
   "outputs": [],
   "source": [
    "print('''\n",
    "\n",
    "Use a dict to specify two y values or series (y1 and y2) for fill between:\n",
    "\n",
    "''')\n",
    "\n",
    "mpf.plot(daily,figscale=0.7,fill_between=dict(y1=3090,y2=3120))\n",
    "mpf.plot(daily,figscale=0.7,fill_between=dict(y1=3100,y2=daily['Close'].values))\n",
    "mpf.plot(daily,figscale=0.7,fill_between=dict(y1=daily['Low'].values,y2=daily['High'].values))"
   ]
  },
  {
   "cell_type": "code",
   "execution_count": null,
   "metadata": {},
   "outputs": [],
   "source": [
    "print('''\n",
    "\n",
    "Use a dict to specify other attributes (kwargs) for fill_between:\n",
    "\n",
    "To demonstrate use of the `where` kwarg to display a holding period,\n",
    "we convert the datetime index into a dataframe, and use that to generate a boolean array:\n",
    "\n",
    "where_values = pd.notnull(dates_df[ (dates_df>=buy_date) & (dates_df <= sell_date) ])['Date'].values\n",
    "\n",
    "''')\n",
    "\n",
    "dates_df     = pd.DataFrame(daily.index)\n",
    "buy_date     = pd.Timestamp('2019-11-06')\n",
    "sell_date    = pd.Timestamp('2019-11-19')\n",
    "where_values = pd.notnull(dates_df[ (dates_df>=buy_date) & (dates_df <= sell_date) ])['Date'].values\n",
    "\n",
    "y1values = daily['Close'].values\n",
    "y2value  = daily['Low'].min()\n",
    "\n",
    "mpf.plot(daily,figscale=0.7,\n",
    "         fill_between=dict(y1=y1values,y2=y2value,where=where_values,alpha=0.5,color='g')\n",
    "        )"
   ]
  },
  {
   "cell_type": "code",
   "execution_count": null,
   "metadata": {},
   "outputs": [],
   "source": []
  }
 ],
 "metadata": {
  "kernelspec": {
   "display_name": "Python 3",
   "language": "python",
   "name": "python3"
  },
  "language_info": {
   "codemirror_mode": {
    "name": "ipython",
    "version": 3
   },
   "file_extension": ".py",
   "mimetype": "text/x-python",
   "name": "python",
   "nbconvert_exporter": "python",
   "pygments_lexer": "ipython3",
   "version": "3.8.3-final"
  }
 },
 "nbformat": 4,
 "nbformat_minor": 2
}