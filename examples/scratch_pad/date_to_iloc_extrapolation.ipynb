{
 "cells": [
  {
   "cell_type": "markdown",
   "metadata": {},
   "source": [
    "---\n",
    "\n",
    "#  Date to iLOC Extrapolation\n",
    "\n",
    "---"
   ]
  },
  {
   "cell_type": "code",
   "execution_count": 1,
   "metadata": {},
   "outputs": [],
   "source": [
    "# This allows multiple outputs from a single jupyter notebook cell:\n",
    "from IPython.core.interactiveshell import InteractiveShell\n",
    "InteractiveShell.ast_node_interactivity = \"all\""
   ]
  },
  {
   "cell_type": "code",
   "execution_count": 2,
   "metadata": {},
   "outputs": [],
   "source": [
    "%matplotlib inline\n",
    "import pandas     as pd\n",
    "import mplfinance as mpf\n",
    "import datetime   as datetime\n",
    "import numpy      as np\n",
    "import matplotlib.dates as mdates\n",
    "import matplotlib.pyplot as plt"
   ]
  },
  {
   "cell_type": "code",
   "execution_count": 3,
   "metadata": {},
   "outputs": [],
   "source": [
    "def date_to_mdate(date):\n",
    "    \"\"\"Convert a `date` to a matplotlib date:\n",
    "    \n",
    "    Input: `date` may be any of:\n",
    "        (1) parseble string containing a date or datetime as a string,\n",
    "        (2) python `datetime.date` or `datetime.datetime`,object\n",
    "        (3) pandas.Timestamp object\n",
    "    \n",
    "    Returns a Matplotlib Date: floating point number of days from 01-Jan-0001, plus one day.\n",
    "    \"\"\"\n",
    "    if isinstance(date,str):\n",
    "        pydt = pd.to_datetime(date).to_pydatetime()\n",
    "    elif isinstance(date,pd.Timestamp):\n",
    "        pydt = date.to_pydatetime()\n",
    "    elif isinstance(date,(datetime.datetime,datetime.date)):\n",
    "        pydt = date\n",
    "    else:\n",
    "        return None\n",
    "    return mdates.date2num(pydt)"
   ]
  },
  {
   "cell_type": "code",
   "execution_count": 4,
   "metadata": {},
   "outputs": [],
   "source": [
    "def date_to_iloc(dtseries,date):\n",
    "    d1s = dtseries.loc[date:]\n",
    "    if len(d1s) < 1:\n",
    "        sdtrange = str(dtseries[0])+' to '+str(dtseries[-1])\n",
    "        raise ValueError('User specified line date \"'+str(date)+\n",
    "                         '\" is beyond (greater than) range of plotted data ('+sdtrange+').')\n",
    "    d1 = d1s.index[0]\n",
    "    d2s = dtseries.loc[:date]\n",
    "    if len(d2s) < 1:\n",
    "        sdtrange = str(dtseries[0])+' to '+str(dtseries[-1])\n",
    "        raise ValueError('User specified line date \"'+str(date)+\n",
    "                         '\" is before (less than) range of plotted data ('+sdtrange+').')\n",
    "    d2 = dtseries.loc[:date].index[-1]\n",
    "    # If there are duplicate dates in the series, for example in a renko plot\n",
    "    # then .get_loc(date) will return a slice containing all the dups, so:\n",
    "    loc1 = dtseries.index.get_loc(d1)\n",
    "    if isinstance(loc1,slice): loc1 = loc1.start\n",
    "    loc2 = dtseries.index.get_loc(d2)\n",
    "    if isinstance(loc2,slice): loc2 = loc2.stop - 1\n",
    "    return (loc1+loc2)/2.0"
   ]
  },
  {
   "cell_type": "code",
   "execution_count": 5,
   "metadata": {},
   "outputs": [],
   "source": [
    "def date_to_iloc_linear(dtseries,date):\n",
    "    d1 = date_to_mdate(dtseries.index[0])\n",
    "    d2 = date_to_mdate(dtseries.index[-1])\n",
    "\n",
    "    print('d1,d2=',d1,d2)\n",
    "    i1 = 0.0\n",
    "    i2 = len(dtseries) - 1.0\n",
    "    print('i1,i2=',i1,i2)\n",
    "    \n",
    "    slope   = (i2 - i1) / (d2 - d1)\n",
    "    yitrcpt = i1 - (slope*d1)\n",
    "    print('slope,yitrcpt=',slope,yitrcpt)\n",
    "    yitrcpt = i2 - (slope*d2)\n",
    "    print('slope,yitrcpt=',slope,yitrcpt)\n",
    "    return (slope,yitrcpt)\n",
    "    \n",
    "    \n",
    "#     d2s = dtseries.loc[:date]\n",
    "#     if len(d2s) < 1:\n",
    "#         sdtrange = str(dtseries[0])+' to '+str(dtseries[-1])\n",
    "#         raise ValueError('User specified line date \"'+str(date)+\n",
    "#                          '\" is before (less than) range of plotted data ('+sdtrange+').')\n",
    "#     d2 = dtseries.loc[:date].index[-1]\n",
    "#     # If there are duplicate dates in the series, for example in a renko plot\n",
    "#     # then .get_loc(date) will return a slice containing all the dups, so:\n",
    "#     loc1 = dtseries.index.get_loc(d1)\n",
    "#     if isinstance(loc1,slice): loc1 = loc1.start\n",
    "#     loc2 = dtseries.index.get_loc(d2)\n",
    "#     if isinstance(loc2,slice): loc2 = loc2.stop - 1\n",
    "#     return (loc1+loc2)/2.0"
   ]
  },
  {
   "cell_type": "code",
   "execution_count": 51,
   "metadata": {},
   "outputs": [
    {
     "data": {
      "text/plain": [
       "(92, 6)"
      ]
     },
     "execution_count": 51,
     "metadata": {},
     "output_type": "execute_result"
    },
    {
     "data": {
      "text/html": [
       "<div>\n",
       "<style scoped>\n",
       "    .dataframe tbody tr th:only-of-type {\n",
       "        vertical-align: middle;\n",
       "    }\n",
       "\n",
       "    .dataframe tbody tr th {\n",
       "        vertical-align: top;\n",
       "    }\n",
       "\n",
       "    .dataframe thead th {\n",
       "        text-align: right;\n",
       "    }\n",
       "</style>\n",
       "<table border=\"1\" class=\"dataframe\">\n",
       "  <thead>\n",
       "    <tr style=\"text-align: right;\">\n",
       "      <th></th>\n",
       "      <th>Open</th>\n",
       "      <th>High</th>\n",
       "      <th>Low</th>\n",
       "      <th>Close</th>\n",
       "      <th>Adj Close</th>\n",
       "      <th>Volume</th>\n",
       "    </tr>\n",
       "    <tr>\n",
       "      <th>Date</th>\n",
       "      <th></th>\n",
       "      <th></th>\n",
       "      <th></th>\n",
       "      <th></th>\n",
       "      <th></th>\n",
       "      <th></th>\n",
       "    </tr>\n",
       "  </thead>\n",
       "  <tbody>\n",
       "    <tr>\n",
       "      <th>2020-09-01</th>\n",
       "      <td>350.209991</td>\n",
       "      <td>352.709991</td>\n",
       "      <td>349.239990</td>\n",
       "      <td>352.600006</td>\n",
       "      <td>349.703522</td>\n",
       "      <td>54999300</td>\n",
       "    </tr>\n",
       "    <tr>\n",
       "      <th>2020-09-02</th>\n",
       "      <td>354.670013</td>\n",
       "      <td>358.750000</td>\n",
       "      <td>353.429993</td>\n",
       "      <td>357.700012</td>\n",
       "      <td>354.761627</td>\n",
       "      <td>69540000</td>\n",
       "    </tr>\n",
       "  </tbody>\n",
       "</table>\n",
       "</div>"
      ],
      "text/plain": [
       "                  Open        High         Low       Close   Adj Close  \\\n",
       "Date                                                                     \n",
       "2020-09-01  350.209991  352.709991  349.239990  352.600006  349.703522   \n",
       "2020-09-02  354.670013  358.750000  353.429993  357.700012  354.761627   \n",
       "\n",
       "              Volume  \n",
       "Date                  \n",
       "2020-09-01  54999300  \n",
       "2020-09-02  69540000  "
      ]
     },
     "execution_count": 51,
     "metadata": {},
     "output_type": "execute_result"
    },
    {
     "data": {
      "text/html": [
       "<div>\n",
       "<style scoped>\n",
       "    .dataframe tbody tr th:only-of-type {\n",
       "        vertical-align: middle;\n",
       "    }\n",
       "\n",
       "    .dataframe tbody tr th {\n",
       "        vertical-align: top;\n",
       "    }\n",
       "\n",
       "    .dataframe thead th {\n",
       "        text-align: right;\n",
       "    }\n",
       "</style>\n",
       "<table border=\"1\" class=\"dataframe\">\n",
       "  <thead>\n",
       "    <tr style=\"text-align: right;\">\n",
       "      <th></th>\n",
       "      <th>Open</th>\n",
       "      <th>High</th>\n",
       "      <th>Low</th>\n",
       "      <th>Close</th>\n",
       "      <th>Adj Close</th>\n",
       "      <th>Volume</th>\n",
       "    </tr>\n",
       "    <tr>\n",
       "      <th>Date</th>\n",
       "      <th></th>\n",
       "      <th></th>\n",
       "      <th></th>\n",
       "      <th></th>\n",
       "      <th></th>\n",
       "      <th></th>\n",
       "    </tr>\n",
       "  </thead>\n",
       "  <tbody>\n",
       "    <tr>\n",
       "      <th>2021-01-11</th>\n",
       "      <td>377.850006</td>\n",
       "      <td>380.579987</td>\n",
       "      <td>377.720001</td>\n",
       "      <td>378.690002</td>\n",
       "      <td>378.690002</td>\n",
       "      <td>51176700</td>\n",
       "    </tr>\n",
       "    <tr>\n",
       "      <th>2021-01-12</th>\n",
       "      <td>378.890015</td>\n",
       "      <td>379.859985</td>\n",
       "      <td>376.359985</td>\n",
       "      <td>378.769989</td>\n",
       "      <td>378.769989</td>\n",
       "      <td>52445000</td>\n",
       "    </tr>\n",
       "  </tbody>\n",
       "</table>\n",
       "</div>"
      ],
      "text/plain": [
       "                  Open        High         Low       Close   Adj Close  \\\n",
       "Date                                                                     \n",
       "2021-01-11  377.850006  380.579987  377.720001  378.690002  378.690002   \n",
       "2021-01-12  378.890015  379.859985  376.359985  378.769989  378.769989   \n",
       "\n",
       "              Volume  \n",
       "Date                  \n",
       "2021-01-11  51176700  \n",
       "2021-01-12  52445000  "
      ]
     },
     "execution_count": 51,
     "metadata": {},
     "output_type": "execute_result"
    }
   ],
   "source": [
    "# Read in daily data for the S&P 500 from November of 2019: \n",
    "#daily = pd.read_csv('../data/SP500_NOV2019_Hist.csv',index_col=0,parse_dates=True)\n",
    "daily = pd.read_csv('../data/yahoofinance-SPY-20200901-20210113.csv',index_col=0,parse_dates=True)\n",
    "daily.index.name = 'Date'\n",
    "daily = daily.loc['2020-09-01':'2021-1-31',:]\n",
    "daily.shape\n",
    "daily.head(2)\n",
    "daily.tail(2)"
   ]
  },
  {
   "cell_type": "code",
   "execution_count": 52,
   "metadata": {},
   "outputs": [
    {
     "data": {
      "image/png": "[encoded data removed]",
      "text/plain": [
       "<Figure size 800x575 with 2 Axes>"
      ]
     },
     "metadata": {},
     "output_type": "display_data"
    }
   ],
   "source": [
    "mpf.plot(daily)"
   ]
  },
  {
   "cell_type": "code",
   "execution_count": 53,
   "metadata": {},
   "outputs": [
    {
     "data": {
      "text/plain": [
       "Date\n",
       "2020-11-02    330.200012\n",
       "2020-11-03    336.029999\n",
       "2020-11-04    343.540009\n",
       "2020-11-05    350.239990\n",
       "2020-11-06    350.160004\n",
       "2020-11-09    354.559998\n",
       "2020-11-10    354.040009\n",
       "2020-11-11    356.670013\n",
       "2020-11-12    353.209991\n",
       "2020-11-13    358.100006\n",
       "2020-11-16    362.570007\n",
       "2020-11-17    360.619995\n",
       "2020-11-18    356.279999\n",
       "2020-11-19    357.779999\n",
       "2020-11-20    355.329987\n",
       "2020-11-23    357.459991\n",
       "2020-11-24    363.220001\n",
       "2020-11-25    362.660004\n",
       "2020-11-27    363.670013\n",
       "2020-11-30    362.059998\n",
       "Name: Close, dtype: float64"
      ]
     },
     "execution_count": 53,
     "metadata": {},
     "output_type": "execute_result"
    }
   ],
   "source": [
    "cpx = daily['Close']['2020-11-1':'2020-11-30']\n",
    "cpx"
   ]
  },
  {
   "cell_type": "code",
   "execution_count": 54,
   "metadata": {},
   "outputs": [
    {
     "name": "stdout",
     "output_type": "stream",
     "text": [
      "d1,d2= 18568.0 18596.0\n",
      "i1,i2= 0.0 19.0\n",
      "slope,yitrcpt= 0.6785714285714286 -12599.714285714286\n",
      "slope,yitrcpt= 0.6785714285714286 -12599.714285714286\n"
     ]
    }
   ],
   "source": [
    "m,b = date_to_iloc_linear(cpx,0)"
   ]
  },
  {
   "cell_type": "code",
   "execution_count": 55,
   "metadata": {},
   "outputs": [],
   "source": [
    "x = [x for x in range(len(daily))]\n",
    "y = [y for y in daily['Close'].values]"
   ]
  },
  {
   "cell_type": "code",
   "execution_count": 56,
   "metadata": {},
   "outputs": [
    {
     "data": {
      "text/plain": [
       "43"
      ]
     },
     "execution_count": 56,
     "metadata": {},
     "output_type": "execute_result"
    }
   ],
   "source": [
    "#daily['Close']['2020-11-1':'2020-11-30']\n",
    "offset = len(daily.loc[:cpx.index[-1]]) - len(cpx)\n",
    "offset"
   ]
  },
  {
   "cell_type": "code",
   "execution_count": 57,
   "metadata": {},
   "outputs": [
    {
     "data": {
      "text/plain": [
       "array([18506., 18507., 18508., 18509., 18513., 18514., 18515., 18516.,\n",
       "       18519., 18520., 18521., 18522., 18523., 18526., 18527., 18528.,\n",
       "       18529., 18530., 18533., 18534., 18535., 18536., 18537., 18540.,\n",
       "       18541., 18542., 18543., 18544., 18547., 18548., 18549., 18550.,\n",
       "       18551., 18554., 18555., 18556., 18557., 18558., 18561., 18562.,\n",
       "       18563., 18564., 18565., 18568., 18569., 18570., 18571., 18572.,\n",
       "       18575., 18576., 18577., 18578., 18579., 18582., 18583., 18584.,\n",
       "       18585., 18586., 18589., 18590., 18591., 18593., 18596., 18597.,\n",
       "       18598., 18599., 18600., 18603., 18604., 18605., 18606., 18607.,\n",
       "       18610., 18611., 18612., 18613., 18614., 18617., 18618., 18619.,\n",
       "       18620., 18624., 18625., 18626., 18627., 18631., 18632., 18633.,\n",
       "       18634., 18635., 18638., 18639.])"
      ]
     },
     "execution_count": 57,
     "metadata": {},
     "output_type": "execute_result"
    },
    {
     "data": {
      "text/plain": [
       "[0.928571428570649,\n",
       " 1.607142857143117,\n",
       " 2.285714285713766,\n",
       " 2.964285714286234,\n",
       " 5.678571428570649,\n",
       " 6.357142857143117,\n",
       " 7.035714285713766,\n",
       " 7.714285714286234,\n",
       " 9.75,\n",
       " 10.428571428570649,\n",
       " 11.107142857143117,\n",
       " 11.785714285713766,\n",
       " 12.464285714286234,\n",
       " 14.5,\n",
       " 15.178571428570649,\n",
       " 15.857142857143117,\n",
       " 16.535714285713766,\n",
       " 17.214285714286234,\n",
       " 19.25,\n",
       " 19.92857142857065,\n",
       " 20.607142857143117,\n",
       " 21.285714285713766,\n",
       " 21.964285714286234,\n",
       " 24.0,\n",
       " 24.67857142857065,\n",
       " 25.357142857143117,\n",
       " 26.035714285713766,\n",
       " 26.714285714286234,\n",
       " 28.75,\n",
       " 29.42857142857065,\n",
       " 30.107142857143117,\n",
       " 30.785714285713766,\n",
       " 31.464285714286234,\n",
       " 33.5,\n",
       " 34.17857142857065,\n",
       " 34.85714285714312,\n",
       " 35.535714285713766,\n",
       " 36.214285714286234,\n",
       " 38.25,\n",
       " 38.92857142857065,\n",
       " 39.60714285714312,\n",
       " 40.285714285713766,\n",
       " 40.964285714286234,\n",
       " 43.0,\n",
       " 43.67857142857065,\n",
       " 44.35714285714312,\n",
       " 45.035714285713766,\n",
       " 45.714285714286234,\n",
       " 47.75,\n",
       " 48.42857142857065,\n",
       " 49.10714285714312,\n",
       " 49.785714285713766,\n",
       " 50.464285714286234,\n",
       " 52.5,\n",
       " 53.17857142857065,\n",
       " 53.85714285714312,\n",
       " 54.535714285713766,\n",
       " 55.214285714286234,\n",
       " 57.25,\n",
       " 57.92857142857065,\n",
       " 58.60714285714312,\n",
       " 59.964285714286234,\n",
       " 62.0,\n",
       " 62.67857142857065,\n",
       " 63.35714285714312,\n",
       " 64.03571428571377,\n",
       " 64.71428571428623,\n",
       " 66.75,\n",
       " 67.42857142857065,\n",
       " 68.10714285714312,\n",
       " 68.78571428571377,\n",
       " 69.46428571428623,\n",
       " 71.5,\n",
       " 72.17857142857065,\n",
       " 72.85714285714312,\n",
       " 73.53571428571377,\n",
       " 74.21428571428623,\n",
       " 76.25,\n",
       " 76.92857142857065,\n",
       " 77.60714285714312,\n",
       " 78.28571428571377,\n",
       " 81.0,\n",
       " 81.67857142857065,\n",
       " 82.35714285714312,\n",
       " 83.03571428571377,\n",
       " 85.75,\n",
       " 86.42857142857065,\n",
       " 87.10714285714312,\n",
       " 87.78571428571377,\n",
       " 88.46428571428623,\n",
       " 90.5,\n",
       " 91.17857142857065]"
      ]
     },
     "execution_count": 57,
     "metadata": {},
     "output_type": "execute_result"
    },
    {
     "data": {
      "text/plain": [
       "92"
      ]
     },
     "execution_count": 57,
     "metadata": {},
     "output_type": "execute_result"
    },
    {
     "data": {
      "text/plain": [
       "92"
      ]
     },
     "execution_count": 57,
     "metadata": {},
     "output_type": "execute_result"
    },
    {
     "data": {
      "text/plain": [
       "92"
      ]
     },
     "execution_count": 57,
     "metadata": {},
     "output_type": "execute_result"
    }
   ],
   "source": [
    "dates = mdates.date2num(daily.index.to_pydatetime())\n",
    "dates\n",
    "x2 = [(m*d + b + offset) for d in dates]\n",
    "x2\n",
    "len(x2)\n",
    "len(daily)\n",
    "len(x)"
   ]
  },
  {
   "cell_type": "code",
   "execution_count": 58,
   "metadata": {},
   "outputs": [],
   "source": [
    "%%capture\n",
    "fig = plt.figure(figsize=(16,8))\n",
    "ax  = fig.add_subplot()"
   ]
  },
  {
   "cell_type": "code",
   "execution_count": 59,
   "metadata": {},
   "outputs": [],
   "source": [
    "#yconst = [0.0]*len(cpx)"
   ]
  },
  {
   "cell_type": "code",
   "execution_count": 60,
   "metadata": {},
   "outputs": [
    {
     "data": {
      "text/plain": [
       "<matplotlib.collections.PathCollection at 0x7f53f15553a0>"
      ]
     },
     "execution_count": 60,
     "metadata": {},
     "output_type": "execute_result"
    },
    {
     "data": {
      "text/plain": [
       "<matplotlib.collections.PathCollection at 0x7f53f1555280>"
      ]
     },
     "execution_count": 60,
     "metadata": {},
     "output_type": "execute_result"
    },
    {
     "data": {
      "text/plain": [
       "<matplotlib.collections.PathCollection at 0x7f53f15559a0>"
      ]
     },
     "execution_count": 60,
     "metadata": {},
     "output_type": "execute_result"
    },
    {
     "data": {
      "text/plain": [
       "<matplotlib.collections.PathCollection at 0x7f53f1555d60>"
      ]
     },
     "execution_count": 60,
     "metadata": {},
     "output_type": "execute_result"
    }
   ],
   "source": [
    "# ax.scatter(x,y,s=300,marker='^',c='c')\n",
    "# ax.scatter(x2,y,s=300,marker='v',c='m')\n",
    "\n",
    "# ax.scatter( x,y,s=200,marker='d',c='c')\n",
    "# ax.scatter(x2,y,s=200,marker='d',c='m')\n",
    "\n",
    "ax.scatter( x,y,s=600,marker='_',c='c')\n",
    "ax.scatter(x2,y,s=600,marker='_',c='m')\n",
    "ax.scatter( x,y,s=600,marker=2,c='c')\n",
    "ax.scatter(x2,y,s=600,marker=2,c='m')\n",
    "\n",
    "\n",
    "#ax.scatter( x,yconst,s=1200,marker=2,c='c')\n",
    "#ax.scatter(x2,yconst,s=1200,marker=3,c='m')"
   ]
  },
  {
   "cell_type": "code",
   "execution_count": 61,
   "metadata": {},
   "outputs": [
    {
     "data": {
      "image/png": "[encoded data removed]",
      "text/plain": [
       "<Figure size 1600x800 with 1 Axes>"
      ]
     },
     "execution_count": 61,
     "metadata": {},
     "output_type": "execute_result"
    }
   ],
   "source": [
    "fig"
   ]
  },
  {
   "cell_type": "code",
   "execution_count": 62,
   "metadata": {},
   "outputs": [
    {
     "data": {
      "text/html": [
       "<div>\n",
       "<style scoped>\n",
       "    .dataframe tbody tr th:only-of-type {\n",
       "        vertical-align: middle;\n",
       "    }\n",
       "\n",
       "    .dataframe tbody tr th {\n",
       "        vertical-align: top;\n",
       "    }\n",
       "\n",
       "    .dataframe thead th {\n",
       "        text-align: right;\n",
       "    }\n",
       "</style>\n",
       "<table border=\"1\" class=\"dataframe\">\n",
       "  <thead>\n",
       "    <tr style=\"text-align: right;\">\n",
       "      <th></th>\n",
       "      <th>x</th>\n",
       "      <th>x2</th>\n",
       "      <th>diff</th>\n",
       "    </tr>\n",
       "  </thead>\n",
       "  <tbody>\n",
       "    <tr>\n",
       "      <th>0</th>\n",
       "      <td>0.0</td>\n",
       "      <td>0.928571</td>\n",
       "      <td>-0.928571</td>\n",
       "    </tr>\n",
       "    <tr>\n",
       "      <th>1</th>\n",
       "      <td>1.0</td>\n",
       "      <td>1.607143</td>\n",
       "      <td>-0.607143</td>\n",
       "    </tr>\n",
       "    <tr>\n",
       "      <th>2</th>\n",
       "      <td>2.0</td>\n",
       "      <td>2.285714</td>\n",
       "      <td>-0.285714</td>\n",
       "    </tr>\n",
       "    <tr>\n",
       "      <th>3</th>\n",
       "      <td>3.0</td>\n",
       "      <td>2.964286</td>\n",
       "      <td>0.035714</td>\n",
       "    </tr>\n",
       "    <tr>\n",
       "      <th>4</th>\n",
       "      <td>4.0</td>\n",
       "      <td>5.678571</td>\n",
       "      <td>-1.678571</td>\n",
       "    </tr>\n",
       "    <tr>\n",
       "      <th>...</th>\n",
       "      <td>...</td>\n",
       "      <td>...</td>\n",
       "      <td>...</td>\n",
       "    </tr>\n",
       "    <tr>\n",
       "      <th>87</th>\n",
       "      <td>87.0</td>\n",
       "      <td>87.107143</td>\n",
       "      <td>-0.107143</td>\n",
       "    </tr>\n",
       "    <tr>\n",
       "      <th>88</th>\n",
       "      <td>88.0</td>\n",
       "      <td>87.785714</td>\n",
       "      <td>0.214286</td>\n",
       "    </tr>\n",
       "    <tr>\n",
       "      <th>89</th>\n",
       "      <td>89.0</td>\n",
       "      <td>88.464286</td>\n",
       "      <td>0.535714</td>\n",
       "    </tr>\n",
       "    <tr>\n",
       "      <th>90</th>\n",
       "      <td>90.0</td>\n",
       "      <td>90.500000</td>\n",
       "      <td>-0.500000</td>\n",
       "    </tr>\n",
       "    <tr>\n",
       "      <th>91</th>\n",
       "      <td>91.0</td>\n",
       "      <td>91.178571</td>\n",
       "      <td>-0.178571</td>\n",
       "    </tr>\n",
       "  </tbody>\n",
       "</table>\n",
       "<p>92 rows × 3 columns</p>\n",
       "</div>"
      ],
      "text/plain": [
       "       x         x2      diff\n",
       "0    0.0   0.928571 -0.928571\n",
       "1    1.0   1.607143 -0.607143\n",
       "2    2.0   2.285714 -0.285714\n",
       "3    3.0   2.964286  0.035714\n",
       "4    4.0   5.678571 -1.678571\n",
       "..   ...        ...       ...\n",
       "87  87.0  87.107143 -0.107143\n",
       "88  88.0  87.785714  0.214286\n",
       "89  89.0  88.464286  0.535714\n",
       "90  90.0  90.500000 -0.500000\n",
       "91  91.0  91.178571 -0.178571\n",
       "\n",
       "[92 rows x 3 columns]"
      ]
     },
     "execution_count": 62,
     "metadata": {},
     "output_type": "execute_result"
    }
   ],
   "source": [
    "df = pd.DataFrame([x,x2]).T\n",
    "df.columns = ['x','x2']\n",
    "df['diff'] = df.x - df.x2\n",
    "df"
   ]
  },
  {
   "cell_type": "code",
   "execution_count": 63,
   "metadata": {},
   "outputs": [
    {
     "data": {
      "text/plain": [
       "<AxesSubplot:>"
      ]
     },
     "execution_count": 63,
     "metadata": {},
     "output_type": "execute_result"
    },
    {
     "data": {
      "image/png": "[encoded data removed]",
      "text/plain": [
       "<Figure size 640x480 with 1 Axes>"
      ]
     },
     "metadata": {},
     "output_type": "display_data"
    }
   ],
   "source": [
    "df['diff'].plot()"
   ]
  },
  {
   "cell_type": "code",
   "execution_count": null,
   "metadata": {},
   "outputs": [],
   "source": []
  },
  {
   "cell_type": "code",
   "execution_count": 15,
   "metadata": {},
   "outputs": [
    {
     "ename": "NameError",
     "evalue": "name 'STOP' is not defined",
     "output_type": "error",
     "traceback": [
      "\u001b[0;31m---------------------------------------------------------------------------\u001b[0m",
      "\u001b[0;31mNameError\u001b[0m                                 Traceback (most recent call last)",
      "\u001b[0;32m<ipython-input-15-ee4decdca3b8>\u001b[0m in \u001b[0;36m<module>\u001b[0;34m\u001b[0m\n\u001b[0;32m----> 1\u001b[0m STOP\n",
      "\u001b[0;31mNameError\u001b[0m: name 'STOP' is not defined"
     ]
    }
   ],
   "source": [
    "STOP"
   ]
  },
  {
   "cell_type": "code",
   "execution_count": null,
   "metadata": {},
   "outputs": [],
   "source": []
  },
  {
   "cell_type": "code",
   "execution_count": null,
   "metadata": {},
   "outputs": [],
   "source": []
  },
  {
   "cell_type": "code",
   "execution_count": null,
   "metadata": {},
   "outputs": [],
   "source": []
  },
  {
   "cell_type": "code",
   "execution_count": null,
   "metadata": {},
   "outputs": [],
   "source": []
  },
  {
   "cell_type": "code",
   "execution_count": null,
   "metadata": {},
   "outputs": [],
   "source": []
  },
  {
   "cell_type": "code",
   "execution_count": null,
   "metadata": {},
   "outputs": [],
   "source": [
    "def generate_trend_line(series,date1,date2,price1=None,price2=None,show_nontrading=False,forward_only=False):\n",
    "    \"\"\"Return a trend line given two dates and a time-series.\n",
    "       Input: Pandas series with a pandas.DatetimeIndex, and two dates:\n",
    "              The two dates are used to determine two \"prices\" from the series, \n",
    "              or the prices may optionally be specified as `price1` and `price1`.\n",
    "              `show_nontrading` optionally indicates that time-axis is continuous with respect to time\n",
    "              `forward_only` optionally indicates whether to extrapolate both backwards and forwards, or forward only.\n",
    "            \n",
    "       Output: Trend line as \n",
    "    \"\"\"\n",
    "    if not isinstance(series,pd.Series):\n",
    "        raise TypeError('First argument must be a Pandas.Series')\n",
    "    index = series.index\n",
    "    if not isinstance(index,pd.DatetimeIndex):\n",
    "        raise TypeError('First argument, pandas.Series, MUST HAVE A Pandas.DatetimeIndex')\n",
    "        \n",
    "    p1 = series[date1] if price1 is None else price1\n",
    "    p2 = series[date2] if price2 is None else price2\n",
    "\n",
    "    if show_nontrading:\n",
    "        d1 = date_to_mdate(date1)\n",
    "        d2 = date_to_mdate(date2)\n",
    "    else:\n",
    "        d1 = float(index.get_loc(date1))\n",
    "        d2 = float(index.get_loc(date2))\n",
    "        \n",
    "    slope = (p2-p1)/(d2-d1)\n",
    "    yintercept = ((p1 - slope*d1) + (p2 - slope*d2)) / 2.0\n",
    "\n",
    "    if show_nontrading:\n",
    "        dates = mdates.date2num(index.tz_localize(None).to_pydatetime())\n",
    "    else:\n",
    "        dates = range(0,len(index))\n",
    "        \n",
    "    trend_line = []\n",
    "    for dt in dates:\n",
    "        trend_line.append(slope*dt + yintercept)\n",
    "    if forward_only:\n",
    "        ixd1 = index.get_loc(date1)\n",
    "        for jj in range(0,ixd1):\n",
    "            trend_line[jj] = np.nan\n",
    "\n",
    "    return pd.Series(trend_line,index=index)"
   ]
  }
 ],
 "metadata": {
  "kernelspec": {
   "display_name": "Python 3",
   "language": "python",
   "name": "python3"
  },
  "language_info": {
   "codemirror_mode": {
    "name": "ipython",
    "version": 3
   },
   "file_extension": ".py",
   "mimetype": "text/x-python",
   "name": "python",
   "nbconvert_exporter": "python",
   "pygments_lexer": "ipython3",
   "version": "3.8.5"
  }
 },
 "nbformat": 4,
 "nbformat_minor": 2
}
